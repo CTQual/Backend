{
  "nbformat": 4,
  "nbformat_minor": 0,
  "metadata": {
    "colab": {
      "name": "cml.ipynb",
      "version": "0.3.2",
      "views": {},
      "default_view": {},
      "provenance": [],
      "collapsed_sections": []
    },
    "kernelspec": {
      "name": "python3",
      "display_name": "Python 3"
    }
  },
  "cells": [
    {
      "metadata": {
        "id": "AJgDQxIXoHnw",
        "colab_type": "code",
        "colab": {
          "autoexec": {
            "startup": false,
            "wait_interval": 0
          }
        }
      },
      "cell_type": "code",
      "source": [
        "import os\n",
        "import sys\n",
        "sys.path.append(os.getcwd())\n",
        "\n",
        "from openrec import ImplicitModelTrainer\n",
        "from openrec.utils import ImplicitDataset\n",
        "from openrec.recommenders import ConcatVisualBPR\n",
        "from openrec.utils.evaluators import AUC\n",
        "from openrec.utils.samplers import PairwiseSampler"
      ],
      "execution_count": 0,
      "outputs": []
    },
    {
      "metadata": {
        "id": "XoIZRJXOyxEh",
        "colab_type": "code",
        "colab": {
          "autoexec": {
            "startup": false,
            "wait_interval": 0
          }
        }
      },
      "cell_type": "code",
      "source": [
        "import tensorflow as tf\n",
        "\n",
        "sess_config = tf.ConfigProto()\n",
        "sess_config.gpu_options.allow_growth = True\n",
        "sess_config.gpu_options.visible_device_list = '1'"
      ],
      "execution_count": 0,
      "outputs": []
    },
    {
      "metadata": {
        "id": "f2n7bl-yoIZg",
        "colab_type": "code",
        "colab": {
          "autoexec": {
            "startup": false,
            "wait_interval": 0
          },
          "base_uri": "https://localhost:8080/",
          "height": 34
        },
        "outputId": "bc9fa4cf-0ab7-48af-89f8-8f3f41ed79ae",
        "executionInfo": {
          "status": "ok",
          "timestamp": 1524323332145,
          "user_tz": 240,
          "elapsed": 1335,
          "user": {
            "displayName": "Danqi Mao",
            "photoUrl": "https://lh3.googleusercontent.com/a/default-user=s128",
            "userId": "108953712405799017234"
          }
        }
      },
      "cell_type": "code",
      "source": [
        "!ls drive/start_up/"
      ],
      "execution_count": 2,
      "outputs": [
        {
          "output_type": "stream",
          "text": [
            "ctrsr_datasets\tdataset\r\n"
          ],
          "name": "stdout"
        }
      ]
    },
    {
      "metadata": {
        "id": "luHujf80ob8F",
        "colab_type": "code",
        "colab": {
          "autoexec": {
            "startup": false,
            "wait_interval": 0
          },
          "base_uri": "https://localhost:8080/",
          "height": 34
        },
        "outputId": "add415e6-b172-4a7b-c18d-416a09d892f9",
        "executionInfo": {
          "status": "ok",
          "timestamp": 1524323360636,
          "user_tz": 240,
          "elapsed": 3339,
          "user": {
            "displayName": "Danqi Mao",
            "photoUrl": "https://lh3.googleusercontent.com/a/default-user=s128",
            "userId": "108953712405799017234"
          }
        }
      },
      "cell_type": "code",
      "source": [
        "import os\n",
        "try:\n",
        "    from urllib.request import urlretrieve\n",
        "except ImportError:\n",
        "    from urllib import urlretrieve\n",
        "\n",
        "urlretrieve('http://www.wanghao.in/data/ctrsr_datasets.rar', 'ctrsr_datasets.rar')\n",
        "os.system('unrar x ctrsr_datasets.rar')"
      ],
      "execution_count": 5,
      "outputs": [
        {
          "output_type": "execute_result",
          "data": {
            "text/plain": [
              "32512"
            ]
          },
          "metadata": {
            "tags": []
          },
          "execution_count": 5
        }
      ]
    },
    {
      "metadata": {
        "id": "aN3XfuYwofTn",
        "colab_type": "code",
        "colab": {
          "autoexec": {
            "startup": false,
            "wait_interval": 0
          }
        }
      },
      "cell_type": "code",
      "source": [
        "import numpy as np\n",
        "import random\n",
        "\n",
        "users_count = 0\n",
        "interactions_count = 0\n",
        "with open('drive/start_up/ctrsr_datasets/citeulike-a/users.dat', 'r') as fin:\n",
        "    for line in fin:\n",
        "        interactions_count += int(line.split()[0])\n",
        "        users_count += 1\n",
        "\n",
        "# radomly hold out an item per user for validation and testing respectively.\n",
        "val_structured_arr = np.zeros(users_count, dtype=[('user_id', np.int32), ('item_id', np.int32)]) \n",
        "test_structured_arr = np.zeros(users_count, dtype=[('user_id', np.int32), ('item_id', np.int32)])\n",
        "train_structured_arr = np.zeros(interactions_count-11102, dtype=[('user_id', np.int32), ('item_id', np.int32)])\n",
        "\n",
        "interaction_ind = 0\n",
        "next_user_id = 0\n",
        "next_item_id = 0\n",
        "map_to_item_id = dict()  # Map item id from 0 to len(items)-1\n",
        "\n",
        "with open('drive/start_up/ctrsr_datasets/citeulike-a/users.dat', 'r') as fin:\n",
        "    for line in fin:\n",
        "        item_list = line.split()[1:]\n",
        "        random.shuffle(item_list)\n",
        "        for ind, item in enumerate(item_list):\n",
        "            if item not in map_to_item_id:\n",
        "                map_to_item_id[item] = next_item_id\n",
        "                next_item_id += 1\n",
        "            if ind == 0:\n",
        "                val_structured_arr[next_user_id] = (next_user_id, map_to_item_id[item])\n",
        "            elif ind == 1:\n",
        "                test_structured_arr[next_user_id] = (next_user_id, map_to_item_id[item])\n",
        "            else:\n",
        "                train_structured_arr[interaction_ind] = (next_user_id, map_to_item_id[item])\n",
        "                interaction_ind += 1\n",
        "        next_user_id += 1"
      ],
      "execution_count": 0,
      "outputs": []
    },
    {
      "metadata": {
        "id": "EDe-V0Vdox2Y",
        "colab_type": "code",
        "colab": {
          "autoexec": {
            "startup": false,
            "wait_interval": 0
          }
        }
      },
      "cell_type": "code",
      "source": [
        "from openrec.utils import ImplicitDataset\n",
        "\n",
        "train_dataset = ImplicitDataset(raw_data=train_structured_arr, \n",
        "                        max_user=users_count, \n",
        "                        max_item=len(map_to_item_id), name='Train')\n",
        "val_dataset = ImplicitDataset(raw_data=val_structured_arr, \n",
        "                      max_user=users_count,\n",
        "                      max_item=len(map_to_item_id), name='Val')\n",
        "test_dataset = ImplicitDataset(raw_data=test_structured_arr, \n",
        "                       max_user=users_count,\n",
        "                       max_item=len(map_to_item_id), name='Test')"
      ],
      "execution_count": 0,
      "outputs": []
    },
    {
      "metadata": {
        "id": "YfLXa8ROyl9M",
        "colab_type": "code",
        "colab": {
          "autoexec": {
            "startup": false,
            "wait_interval": 0
          }
        }
      },
      "cell_type": "code",
      "source": [
        "batch_size = 1000\n",
        "test_batch_size = 100\n",
        "display_itr = 10000"
      ],
      "execution_count": 0,
      "outputs": []
    },
    {
      "metadata": {
        "id": "qLiS5PhUwXQm",
        "colab_type": "code",
        "colab": {
          "autoexec": {
            "startup": false,
            "wait_interval": 0
          },
          "base_uri": "https://localhost:8080/",
          "height": 88
        },
        "outputId": "e5d671f1-a3f0-4c2d-f3c6-e0abcb5becfa",
        "executionInfo": {
          "status": "ok",
          "timestamp": 1524324221121,
          "user_tz": 240,
          "elapsed": 1250,
          "user": {
            "displayName": "Danqi Mao",
            "photoUrl": "https://lh3.googleusercontent.com/a/default-user=s128",
            "userId": "108953712405799017234"
          }
        }
      },
      "cell_type": "code",
      "source": [
        "from openrec.recommenders import CML\n",
        "\n",
        "cml_model = CML(batch_size=batch_size, max_user=train_dataset.max_user(), max_item=train_dataset.max_item(), \n",
        "                dim_embed=20, sess_config=sess_config)\n"
      ],
      "execution_count": 15,
      "outputs": [
        {
          "output_type": "stream",
          "text": [
            "WARNING:tensorflow:From /usr/local/lib/python3.6/dist-packages/openrec/modules/interactions/pairwise_eu_dist.py:93: calling reduce_sum (from tensorflow.python.ops.math_ops) with keep_dims is deprecated and will be removed in a future version.\n",
            "Instructions for updating:\n",
            "keep_dims is deprecated, use keepdims instead\n"
          ],
          "name": "stdout"
        }
      ]
    },
    {
      "metadata": {
        "id": "7CT-7_LXo2nm",
        "colab_type": "code",
        "colab": {
          "autoexec": {
            "startup": false,
            "wait_interval": 0
          }
        }
      },
      "cell_type": "code",
      "source": [
        "from openrec.utils.samplers import PairwiseSampler\n",
        "sampler = PairwiseSampler(batch_size=batch_size, dataset=train_dataset, num_process=5)\n"
      ],
      "execution_count": 0,
      "outputs": []
    },
    {
      "metadata": {
        "id": "8AyS4cMXwNm8",
        "colab_type": "code",
        "colab": {
          "autoexec": {
            "startup": false,
            "wait_interval": 0
          }
        }
      },
      "cell_type": "code",
      "source": [
        "from openrec import ImplicitModelTrainer\n",
        "model_trainer = ImplicitModelTrainer(batch_size=batch_size, test_batch_size=test_batch_size, \n",
        "    train_dataset=train_dataset, model=cml_model, sampler=sampler)\n",
        "\n",
        "\n"
      ],
      "execution_count": 0,
      "outputs": []
    },
    {
      "metadata": {
        "id": "FxmNoQKZxx2e",
        "colab_type": "code",
        "colab": {
          "autoexec": {
            "startup": false,
            "wait_interval": 0
          }
        }
      },
      "cell_type": "code",
      "source": [
        "from openrec.utils.evaluators import AUC\n",
        "auc_evaluator = AUC()\n"
      ],
      "execution_count": 0,
      "outputs": []
    },
    {
      "metadata": {
        "id": "3cZAZgBr1m9v",
        "colab_type": "code",
        "colab": {
          "autoexec": {
            "startup": false,
            "wait_interval": 0
          }
        }
      },
      "cell_type": "code",
      "source": [
        "11:25"
      ],
      "execution_count": 0,
      "outputs": []
    },
    {
      "metadata": {
        "id": "mu3xVQkNxzcd",
        "colab_type": "code",
        "colab": {
          "autoexec": {
            "startup": false,
            "wait_interval": 0
          },
          "base_uri": "https://localhost:8080/",
          "height": 2788
        },
        "outputId": "441ab55e-36f8-4bc6-99b5-e0421ee05279",
        "executionInfo": {
          "status": "ok",
          "timestamp": 1524339169845,
          "user_tz": 240,
          "elapsed": 14919909,
          "user": {
            "displayName": "Danqi Mao",
            "photoUrl": "https://lh3.googleusercontent.com/a/default-user=s128",
            "userId": "108953712405799017234"
          }
        }
      },
      "cell_type": "code",
      "source": [
        "\n",
        "model_trainer.train(num_itr=int(1e5), display_itr=display_itr, eval_datasets=[val_dataset, test_dataset],\n",
        "                    evaluators=[auc_evaluator])"
      ],
      "execution_count": 19,
      "outputs": [
        {
          "output_type": "stream",
          "text": [
            "\u001b[34m== Start training with FULL evaluation ==\u001b[0m\n",
            "\u001b[34m[Itr 1000] Finished\u001b[0m\n",
            "\u001b[34m[Itr 2000] Finished\u001b[0m\n",
            "\u001b[34m[Itr 3000] Finished\u001b[0m\n",
            "\u001b[34m[Itr 4000] Finished\u001b[0m\n",
            "\u001b[34m[Itr 5000] Finished\u001b[0m\n",
            "\u001b[34m[Itr 6000] Finished\u001b[0m\n",
            "\u001b[34m[Itr 7000] Finished\u001b[0m\n",
            "\u001b[34m[Itr 8000] Finished\u001b[0m\n",
            "\u001b[34m[Itr 9000] Finished\u001b[0m\n",
            "\u001b[34m[Itr 10000] Finished\u001b[0m\n",
            "\u001b[31m[Itr 10000]\u001b[0m loss: 499.617189\n",
            "\u001b[32m..(dataset: Val) evaluation\u001b[0m\n"
          ],
          "name": "stdout"
        },
        {
          "output_type": "stream",
          "text": [
            "100%|██████████| 56/56 [01:08<00:00,  1.23s/it]"
          ],
          "name": "stderr"
        },
        {
          "output_type": "stream",
          "text": [
            "\u001b[32m..(dataset: Val)\u001b[0m AUC 0.9126019580364682\n",
            "\u001b[32m..(dataset: Test) evaluation\u001b[0m\n"
          ],
          "name": "stdout"
        },
        {
          "output_type": "stream",
          "text": [
            "\n",
            "100%|██████████| 56/56 [01:10<00:00,  1.26s/it]\n"
          ],
          "name": "stderr"
        },
        {
          "output_type": "stream",
          "text": [
            "\u001b[32m..(dataset: Test)\u001b[0m AUC 0.91129645985358\n",
            "\u001b[34m[Itr 11000] Finished\u001b[0m\n",
            "\u001b[34m[Itr 12000] Finished\u001b[0m\n",
            "\u001b[34m[Itr 13000] Finished\u001b[0m\n",
            "\u001b[34m[Itr 14000] Finished\u001b[0m\n",
            "\u001b[34m[Itr 15000] Finished\u001b[0m\n",
            "\u001b[34m[Itr 16000] Finished\u001b[0m\n",
            "\u001b[34m[Itr 17000] Finished\u001b[0m\n",
            "\u001b[34m[Itr 18000] Finished\u001b[0m\n",
            "\u001b[34m[Itr 19000] Finished\u001b[0m\n",
            "\u001b[34m[Itr 20000] Finished\u001b[0m\n",
            "\u001b[31m[Itr 20000]\u001b[0m loss: 101.435268\n",
            "\u001b[32m..(dataset: Val) evaluation\u001b[0m\n"
          ],
          "name": "stdout"
        },
        {
          "output_type": "stream",
          "text": [
            "100%|██████████| 56/56 [00:56<00:00,  1.01s/it]"
          ],
          "name": "stderr"
        },
        {
          "output_type": "stream",
          "text": [
            "\u001b[32m..(dataset: Val)\u001b[0m AUC 0.94895369072467\n",
            "\u001b[32m..(dataset: Test) evaluation\u001b[0m\n"
          ],
          "name": "stdout"
        },
        {
          "output_type": "stream",
          "text": [
            "\n",
            "100%|██████████| 56/56 [00:56<00:00,  1.01s/it]\n"
          ],
          "name": "stderr"
        },
        {
          "output_type": "stream",
          "text": [
            "\u001b[32m..(dataset: Test)\u001b[0m AUC 0.9460217569646724\n",
            "\u001b[34m[Itr 21000] Finished\u001b[0m\n",
            "\u001b[34m[Itr 22000] Finished\u001b[0m\n",
            "\u001b[34m[Itr 23000] Finished\u001b[0m\n",
            "\u001b[34m[Itr 24000] Finished\u001b[0m\n",
            "\u001b[34m[Itr 25000] Finished\u001b[0m\n",
            "\u001b[34m[Itr 26000] Finished\u001b[0m\n",
            "\u001b[34m[Itr 27000] Finished\u001b[0m\n",
            "\u001b[34m[Itr 28000] Finished\u001b[0m\n",
            "\u001b[34m[Itr 29000] Finished\u001b[0m\n",
            "\u001b[34m[Itr 30000] Finished\u001b[0m\n",
            "\u001b[31m[Itr 30000]\u001b[0m loss: 72.376648\n",
            "\u001b[32m..(dataset: Val) evaluation\u001b[0m\n"
          ],
          "name": "stdout"
        },
        {
          "output_type": "stream",
          "text": [
            "100%|██████████| 56/56 [00:55<00:00,  1.00it/s]"
          ],
          "name": "stderr"
        },
        {
          "output_type": "stream",
          "text": [
            "\u001b[32m..(dataset: Val)\u001b[0m AUC 0.9527119505916114\n",
            "\u001b[32m..(dataset: Test) evaluation\u001b[0m\n"
          ],
          "name": "stdout"
        },
        {
          "output_type": "stream",
          "text": [
            "\n",
            "100%|██████████| 56/56 [00:56<00:00,  1.01s/it]\n"
          ],
          "name": "stderr"
        },
        {
          "output_type": "stream",
          "text": [
            "\u001b[32m..(dataset: Test)\u001b[0m AUC 0.9500566874854851\n",
            "\u001b[34m[Itr 31000] Finished\u001b[0m\n",
            "\u001b[34m[Itr 32000] Finished\u001b[0m\n",
            "\u001b[34m[Itr 33000] Finished\u001b[0m\n",
            "\u001b[34m[Itr 34000] Finished\u001b[0m\n",
            "\u001b[34m[Itr 35000] Finished\u001b[0m\n",
            "\u001b[34m[Itr 36000] Finished\u001b[0m\n",
            "\u001b[34m[Itr 37000] Finished\u001b[0m\n",
            "\u001b[34m[Itr 38000] Finished\u001b[0m\n",
            "\u001b[34m[Itr 39000] Finished\u001b[0m\n",
            "\u001b[34m[Itr 40000] Finished\u001b[0m\n",
            "\u001b[31m[Itr 40000]\u001b[0m loss: 65.072567\n",
            "\u001b[32m..(dataset: Val) evaluation\u001b[0m\n"
          ],
          "name": "stdout"
        },
        {
          "output_type": "stream",
          "text": [
            "100%|██████████| 56/56 [00:55<00:00,  1.01it/s]"
          ],
          "name": "stderr"
        },
        {
          "output_type": "stream",
          "text": [
            "\u001b[32m..(dataset: Val)\u001b[0m AUC 0.9535319483367791\n",
            "\u001b[32m..(dataset: Test) evaluation\u001b[0m\n"
          ],
          "name": "stdout"
        },
        {
          "output_type": "stream",
          "text": [
            "\n",
            "100%|██████████| 56/56 [00:55<00:00,  1.01it/s]\n"
          ],
          "name": "stderr"
        },
        {
          "output_type": "stream",
          "text": [
            "\u001b[32m..(dataset: Test)\u001b[0m AUC 0.9513217522271654\n",
            "\u001b[34m[Itr 41000] Finished\u001b[0m\n",
            "\u001b[34m[Itr 42000] Finished\u001b[0m\n",
            "\u001b[34m[Itr 43000] Finished\u001b[0m\n",
            "\u001b[34m[Itr 44000] Finished\u001b[0m\n",
            "\u001b[34m[Itr 45000] Finished\u001b[0m\n",
            "\u001b[34m[Itr 46000] Finished\u001b[0m\n",
            "\u001b[34m[Itr 47000] Finished\u001b[0m\n",
            "\u001b[34m[Itr 48000] Finished\u001b[0m\n",
            "\u001b[34m[Itr 49000] Finished\u001b[0m\n",
            "\u001b[34m[Itr 50000] Finished\u001b[0m\n",
            "\u001b[31m[Itr 50000]\u001b[0m loss: 61.808723\n",
            "\u001b[32m..(dataset: Val) evaluation\u001b[0m\n"
          ],
          "name": "stdout"
        },
        {
          "output_type": "stream",
          "text": [
            "100%|██████████| 56/56 [00:56<00:00,  1.01s/it]"
          ],
          "name": "stderr"
        },
        {
          "output_type": "stream",
          "text": [
            "\u001b[32m..(dataset: Val)\u001b[0m AUC 0.9538170762985121\n",
            "\u001b[32m..(dataset: Test) evaluation\u001b[0m\n"
          ],
          "name": "stdout"
        },
        {
          "output_type": "stream",
          "text": [
            "\n",
            "100%|██████████| 56/56 [00:54<00:00,  1.02it/s]\n"
          ],
          "name": "stderr"
        },
        {
          "output_type": "stream",
          "text": [
            "\u001b[32m..(dataset: Test)\u001b[0m AUC 0.9518069670998799\n",
            "\u001b[34m[Itr 51000] Finished\u001b[0m\n",
            "\u001b[34m[Itr 52000] Finished\u001b[0m\n",
            "\u001b[34m[Itr 53000] Finished\u001b[0m\n",
            "\u001b[34m[Itr 54000] Finished\u001b[0m\n",
            "\u001b[34m[Itr 55000] Finished\u001b[0m\n",
            "\u001b[34m[Itr 56000] Finished\u001b[0m\n",
            "\u001b[34m[Itr 57000] Finished\u001b[0m\n",
            "\u001b[34m[Itr 58000] Finished\u001b[0m\n",
            "\u001b[34m[Itr 59000] Finished\u001b[0m\n",
            "\u001b[34m[Itr 60000] Finished\u001b[0m\n",
            "\u001b[31m[Itr 60000]\u001b[0m loss: 59.878075\n",
            "\u001b[32m..(dataset: Val) evaluation\u001b[0m\n"
          ],
          "name": "stdout"
        },
        {
          "output_type": "stream",
          "text": [
            "100%|██████████| 56/56 [00:55<00:00,  1.01it/s]"
          ],
          "name": "stderr"
        },
        {
          "output_type": "stream",
          "text": [
            "\u001b[32m..(dataset: Val)\u001b[0m AUC 0.9542459160871536\n",
            "\u001b[32m..(dataset: Test) evaluation\u001b[0m\n"
          ],
          "name": "stdout"
        },
        {
          "output_type": "stream",
          "text": [
            "\n",
            "100%|██████████| 56/56 [00:57<00:00,  1.03s/it]\n"
          ],
          "name": "stderr"
        },
        {
          "output_type": "stream",
          "text": [
            "\u001b[32m..(dataset: Test)\u001b[0m AUC 0.9523097064051707\n",
            "\u001b[34m[Itr 61000] Finished\u001b[0m\n",
            "\u001b[34m[Itr 62000] Finished\u001b[0m\n",
            "\u001b[34m[Itr 63000] Finished\u001b[0m\n",
            "\u001b[34m[Itr 64000] Finished\u001b[0m\n",
            "\u001b[34m[Itr 65000] Finished\u001b[0m\n",
            "\u001b[34m[Itr 66000] Finished\u001b[0m\n",
            "\u001b[34m[Itr 67000] Finished\u001b[0m\n",
            "\u001b[34m[Itr 68000] Finished\u001b[0m\n",
            "\u001b[34m[Itr 69000] Finished\u001b[0m\n",
            "\u001b[34m[Itr 70000] Finished\u001b[0m\n",
            "\u001b[31m[Itr 70000]\u001b[0m loss: 58.717063\n",
            "\u001b[32m..(dataset: Val) evaluation\u001b[0m\n"
          ],
          "name": "stdout"
        },
        {
          "output_type": "stream",
          "text": [
            "100%|██████████| 56/56 [00:56<00:00,  1.02s/it]"
          ],
          "name": "stderr"
        },
        {
          "output_type": "stream",
          "text": [
            "\u001b[32m..(dataset: Val)\u001b[0m AUC 0.9543906499830309\n",
            "\u001b[32m..(dataset: Test) evaluation\u001b[0m\n"
          ],
          "name": "stdout"
        },
        {
          "output_type": "stream",
          "text": [
            "\n",
            "100%|██████████| 56/56 [00:54<00:00,  1.03it/s]\n"
          ],
          "name": "stderr"
        },
        {
          "output_type": "stream",
          "text": [
            "\u001b[32m..(dataset: Test)\u001b[0m AUC 0.9525038167120946\n",
            "\u001b[34m[Itr 71000] Finished\u001b[0m\n",
            "\u001b[34m[Itr 72000] Finished\u001b[0m\n",
            "\u001b[34m[Itr 73000] Finished\u001b[0m\n",
            "\u001b[34m[Itr 74000] Finished\u001b[0m\n",
            "\u001b[34m[Itr 75000] Finished\u001b[0m\n",
            "\u001b[34m[Itr 76000] Finished\u001b[0m\n",
            "\u001b[34m[Itr 77000] Finished\u001b[0m\n",
            "\u001b[34m[Itr 78000] Finished\u001b[0m\n",
            "\u001b[34m[Itr 79000] Finished\u001b[0m\n",
            "\u001b[34m[Itr 80000] Finished\u001b[0m\n",
            "\u001b[31m[Itr 80000]\u001b[0m loss: 57.779225\n",
            "\u001b[32m..(dataset: Val) evaluation\u001b[0m\n"
          ],
          "name": "stdout"
        },
        {
          "output_type": "stream",
          "text": [
            "100%|██████████| 56/56 [00:56<00:00,  1.01s/it]"
          ],
          "name": "stderr"
        },
        {
          "output_type": "stream",
          "text": [
            "\u001b[32m..(dataset: Val)\u001b[0m AUC 0.9543580195835443\n",
            "\u001b[32m..(dataset: Test) evaluation\u001b[0m\n"
          ],
          "name": "stdout"
        },
        {
          "output_type": "stream",
          "text": [
            "\n",
            "100%|██████████| 56/56 [00:55<00:00,  1.00it/s]\n"
          ],
          "name": "stderr"
        },
        {
          "output_type": "stream",
          "text": [
            "\u001b[32m..(dataset: Test)\u001b[0m AUC 0.952355147305938\n",
            "\u001b[34m[Itr 81000] Finished\u001b[0m\n",
            "\u001b[34m[Itr 82000] Finished\u001b[0m\n",
            "\u001b[34m[Itr 83000] Finished\u001b[0m\n",
            "\u001b[34m[Itr 84000] Finished\u001b[0m\n",
            "\u001b[34m[Itr 85000] Finished\u001b[0m\n",
            "\u001b[34m[Itr 86000] Finished\u001b[0m\n",
            "\u001b[34m[Itr 87000] Finished\u001b[0m\n",
            "\u001b[34m[Itr 88000] Finished\u001b[0m\n",
            "\u001b[34m[Itr 89000] Finished\u001b[0m\n",
            "\u001b[34m[Itr 90000] Finished\u001b[0m\n",
            "\u001b[31m[Itr 90000]\u001b[0m loss: 57.228166\n",
            "\u001b[32m..(dataset: Val) evaluation\u001b[0m\n"
          ],
          "name": "stdout"
        },
        {
          "output_type": "stream",
          "text": [
            "100%|██████████| 56/56 [00:56<00:00,  1.01s/it]"
          ],
          "name": "stderr"
        },
        {
          "output_type": "stream",
          "text": [
            "\u001b[32m..(dataset: Val)\u001b[0m AUC 0.9547201154360819\n",
            "\u001b[32m..(dataset: Test) evaluation\u001b[0m\n"
          ],
          "name": "stdout"
        },
        {
          "output_type": "stream",
          "text": [
            "\n",
            "100%|██████████| 56/56 [00:56<00:00,  1.01s/it]\n"
          ],
          "name": "stderr"
        },
        {
          "output_type": "stream",
          "text": [
            "\u001b[32m..(dataset: Test)\u001b[0m AUC 0.9525032223756267\n",
            "\u001b[34m[Itr 91000] Finished\u001b[0m\n",
            "\u001b[34m[Itr 92000] Finished\u001b[0m\n",
            "\u001b[34m[Itr 93000] Finished\u001b[0m\n",
            "\u001b[34m[Itr 94000] Finished\u001b[0m\n",
            "\u001b[34m[Itr 95000] Finished\u001b[0m\n",
            "\u001b[34m[Itr 96000] Finished\u001b[0m\n",
            "\u001b[34m[Itr 97000] Finished\u001b[0m\n",
            "\u001b[34m[Itr 98000] Finished\u001b[0m\n",
            "\u001b[34m[Itr 99000] Finished\u001b[0m\n"
          ],
          "name": "stdout"
        }
      ]
    },
    {
      "metadata": {
        "id": "s9zEQUaJzjEF",
        "colab_type": "code",
        "colab": {
          "autoexec": {
            "startup": false,
            "wait_interval": 0
          }
        }
      },
      "cell_type": "code",
      "source": [
        ""
      ],
      "execution_count": 0,
      "outputs": []
    }
  ]
}