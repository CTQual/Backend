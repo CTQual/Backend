{
  "nbformat": 4,
  "nbformat_minor": 0,
  "metadata": {
    "colab": {
      "name": "bpr_sgd.ipynb",
      "version": "0.3.2",
      "views": {},
      "default_view": {},
      "provenance": [],
      "collapsed_sections": []
    },
    "kernelspec": {
      "name": "python3",
      "display_name": "Python 3"
    }
  },
  "cells": [
    {
      "metadata": {
        "id": "QzzcL-UEchQ6",
        "colab_type": "code",
        "colab": {
          "autoexec": {
            "startup": false,
            "wait_interval": 0
          }
        }
      },
      "cell_type": "code",
      "source": [
        "!pip install -q openrec"
      ],
      "execution_count": 0,
      "outputs": []
    },
    {
      "metadata": {
        "id": "CTXeceAKISRA",
        "colab_type": "code",
        "colab": {
          "autoexec": {
            "startup": false,
            "wait_interval": 0
          }
        }
      },
      "cell_type": "code",
      "source": [
        "!pip install -q config"
      ],
      "execution_count": 0,
      "outputs": []
    },
    {
      "metadata": {
        "id": "BlqlQdg-jbbl",
        "colab_type": "code",
        "colab": {
          "autoexec": {
            "startup": false,
            "wait_interval": 0
          },
          "base_uri": "https://localhost:8080/",
          "height": 105
        },
        "outputId": "613a8a63-ce08-450d-8afb-37130b13e49e",
        "executionInfo": {
          "status": "ok",
          "timestamp": 1525298371041,
          "user_tz": 240,
          "elapsed": 22507,
          "user": {
            "displayName": "Danqi Mao",
            "photoUrl": "https://lh3.googleusercontent.com/a/default-user=s128",
            "userId": "108953712405799017234"
          }
        }
      },
      "cell_type": "code",
      "source": [
        "!apt-get install -y -qq software-properties-common python-software-properties module-init-tools\n",
        "!add-apt-repository -y ppa:alessandro-strada/ppa 2>&1 > /dev/null\n",
        "!apt-get update -qq 2>&1 > /dev/null\n",
        "!apt-get -y install -qq google-drive-ocamlfuse fuse\n",
        "from google.colab import auth\n",
        "auth.authenticate_user()\n",
        "from oauth2client.client import GoogleCredentials\n",
        "creds = GoogleCredentials.get_application_default()\n",
        "import getpass\n",
        "!google-drive-ocamlfuse -headless -id={creds.client_id} -secret={creds.client_secret} < /dev/null 2>&1 | grep URL\n",
        "vcode = getpass.getpass()\n",
        "!echo {vcode} | google-drive-ocamlfuse -headless -id={creds.client_id} -secret={creds.client_secret}\n",
        "\n",
        "!mkdir -p drive\n",
        "!google-drive-ocamlfuse drive"
      ],
      "execution_count": 1,
      "outputs": [
        {
          "output_type": "stream",
          "text": [
            "Please, open the following URL in a web browser: https://accounts.google.com/o/oauth2/auth?client_id=32555940559.apps.googleusercontent.com&redirect_uri=urn%3Aietf%3Awg%3Aoauth%3A2.0%3Aoob&scope=https%3A%2F%2Fwww.googleapis.com%2Fauth%2Fdrive&response_type=code&access_type=offline&approval_prompt=force\r\n",
            "··········\n",
            "Please, open the following URL in a web browser: https://accounts.google.com/o/oauth2/auth?client_id=32555940559.apps.googleusercontent.com&redirect_uri=urn%3Aietf%3Awg%3Aoauth%3A2.0%3Aoob&scope=https%3A%2F%2Fwww.googleapis.com%2Fauth%2Fdrive&response_type=code&access_type=offline&approval_prompt=force\n",
            "Please enter the verification code: Access token retrieved correctly.\n"
          ],
          "name": "stdout"
        }
      ]
    },
    {
      "metadata": {
        "id": "0BEfw6Wpjie6",
        "colab_type": "code",
        "colab": {
          "autoexec": {
            "startup": false,
            "wait_interval": 0
          },
          "base_uri": "https://localhost:8080/",
          "height": 34
        },
        "outputId": "4d571708-f86e-4120-94cd-0e2bbe8cff98",
        "executionInfo": {
          "status": "ok",
          "timestamp": 1525201769092,
          "user_tz": 240,
          "elapsed": 2532,
          "user": {
            "displayName": "Danqi Mao",
            "photoUrl": "https://lh3.googleusercontent.com/a/default-user=s128",
            "userId": "108953712405799017234"
          }
        }
      },
      "cell_type": "code",
      "source": [
        "!ls drive/start_up/"
      ],
      "execution_count": 2,
      "outputs": [
        {
          "output_type": "stream",
          "text": [
            "ctrsr_datasets\tdataset\r\n"
          ],
          "name": "stdout"
        }
      ]
    },
    {
      "metadata": {
        "id": "S7evGMHpeJrf",
        "colab_type": "code",
        "colab": {
          "autoexec": {
            "startup": false,
            "wait_interval": 0
          },
          "base_uri": "https://localhost:8080/",
          "height": 34
        },
        "outputId": "671ea040-d7fb-40c9-f69c-9d3e213fe751",
        "executionInfo": {
          "status": "ok",
          "timestamp": 1524609687175,
          "user_tz": 240,
          "elapsed": 80425,
          "user": {
            "displayName": "Danqi Mao",
            "photoUrl": "https://lh3.googleusercontent.com/a/default-user=s128",
            "userId": "108953712405799017234"
          }
        }
      },
      "cell_type": "code",
      "source": [
        "import os\n",
        "try:\n",
        "    from urllib.request import urlretrieve\n",
        "except ImportError:\n",
        "    from urllib import urlretrieve\n",
        "\n",
        "urlretrieve('http://www.wanghao.in/data/ctrsr_datasets.rar', 'ctrsr_datasets.rar')\n",
        "os.system('unrar x ctrsr_datasets.rar')\n",
        "\n"
      ],
      "execution_count": 7,
      "outputs": [
        {
          "output_type": "execute_result",
          "data": {
            "text/plain": [
              "32512"
            ]
          },
          "metadata": {
            "tags": []
          },
          "execution_count": 7
        }
      ]
    },
    {
      "metadata": {
        "id": "0L9m2iruePi9",
        "colab_type": "code",
        "colab": {
          "autoexec": {
            "startup": false,
            "wait_interval": 0
          }
        }
      },
      "cell_type": "code",
      "source": [
        "import numpy as np\n",
        "import random\n",
        "\n",
        "users_count = 0\n",
        "interactions_count = 0\n",
        "with open('drive/start_up/ctrsr_datasets/citeulike-a/users.dat', 'r') as fin:\n",
        "    for line in fin:\n",
        "        interactions_count += int(line.split()[0])\n",
        "        users_count += 1\n",
        "\n",
        "# radomly hold out an item per user for validation and testing respectively.\n",
        "val_structured_arr = np.zeros(users_count, dtype=[('user_id', np.int32), ('item_id', np.int32)]) \n",
        "test_structured_arr = np.zeros(users_count, dtype=[('user_id', np.int32), ('item_id', np.int32)])\n",
        "train_structured_arr = np.zeros(interactions_count-11102, dtype=[('user_id', np.int32), ('item_id', np.int32)])\n",
        "\n",
        "interaction_ind = 0\n",
        "next_user_id = 0\n",
        "next_item_id = 0\n",
        "map_to_item_id = dict()  # Map item id from 0 to len(items)-1\n",
        "\n",
        "with open('drive/start_up/ctrsr_datasets/citeulike-a/users.dat', 'r') as fin:\n",
        "    for line in fin:\n",
        "        item_list = line.split()[1:]\n",
        "        random.shuffle(item_list)\n",
        "        for ind, item in enumerate(item_list):\n",
        "            if item not in map_to_item_id:\n",
        "                map_to_item_id[item] = next_item_id\n",
        "                next_item_id += 1\n",
        "            if ind == 0:\n",
        "                val_structured_arr[next_user_id] = (next_user_id, map_to_item_id[item])\n",
        "            elif ind == 1:\n",
        "                test_structured_arr[next_user_id] = (next_user_id, map_to_item_id[item])\n",
        "            else:\n",
        "                train_structured_arr[interaction_ind] = (next_user_id, map_to_item_id[item])\n",
        "                interaction_ind += 1\n",
        "        next_user_id += 1"
      ],
      "execution_count": 0,
      "outputs": []
    },
    {
      "metadata": {
        "id": "l66qhiw-kCAB",
        "colab_type": "code",
        "colab": {
          "autoexec": {
            "startup": false,
            "wait_interval": 0
          }
        }
      },
      "cell_type": "code",
      "source": [
        "from openrec.utils import ImplicitDataset\n",
        "\n",
        "train_dataset = ImplicitDataset(raw_data=train_structured_arr, \n",
        "                        max_user=users_count, \n",
        "                        max_item=len(map_to_item_id), name='Train')\n",
        "val_dataset = ImplicitDataset(raw_data=val_structured_arr, \n",
        "                      max_user=users_count,\n",
        "                      max_item=len(map_to_item_id), name='Val')\n",
        "test_dataset = ImplicitDataset(raw_data=test_structured_arr, \n",
        "                       max_user=users_count,\n",
        "                       max_item=len(map_to_item_id), name='Test')\n"
      ],
      "execution_count": 0,
      "outputs": []
    },
    {
      "metadata": {
        "id": "Djgd0QrwuHyC",
        "colab_type": "code",
        "colab": {
          "autoexec": {
            "startup": false,
            "wait_interval": 0
          },
          "base_uri": "https://localhost:8080/",
          "height": 88
        },
        "outputId": "57968260-20ec-405b-ef4d-52fdbc2a4ee7",
        "executionInfo": {
          "status": "ok",
          "timestamp": 1524232551006,
          "user_tz": 240,
          "elapsed": 3323,
          "user": {
            "displayName": "Danqi Mao",
            "photoUrl": "https://lh3.googleusercontent.com/a/default-user=s128",
            "userId": "108953712405799017234"
          }
        }
      },
      "cell_type": "code",
      "source": [
        "from openrec.recommenders import BPR\n",
        "\n",
        "bpr_model = BPR(batch_size=1000, \n",
        "                max_user=train_dataset.max_user(), \n",
        "                max_item=train_dataset.max_item(), \n",
        "                dim_embed=20)"
      ],
      "execution_count": 8,
      "outputs": [
        {
          "output_type": "stream",
          "text": [
            "WARNING:tensorflow:From /usr/local/lib/python3.6/dist-packages/openrec/modules/interactions/pairwise_log.py:83: calling reduce_sum (from tensorflow.python.ops.math_ops) with keep_dims is deprecated and will be removed in a future version.\n",
            "Instructions for updating:\n",
            "keep_dims is deprecated, use keepdims instead\n"
          ],
          "name": "stdout"
        }
      ]
    },
    {
      "metadata": {
        "id": "SSbDYJEEui_D",
        "colab_type": "code",
        "colab": {
          "autoexec": {
            "startup": false,
            "wait_interval": 0
          },
          "base_uri": "https://localhost:8080/",
          "height": 300
        },
        "outputId": "4429b7fd-bdfc-4852-82db-34e8767d3070",
        "executionInfo": {
          "status": "error",
          "timestamp": 1525203556210,
          "user_tz": 240,
          "elapsed": 617,
          "user": {
            "displayName": "Danqi Mao",
            "photoUrl": "https://lh3.googleusercontent.com/a/default-user=s128",
            "userId": "108953712405799017234"
          }
        }
      },
      "cell_type": "code",
      "source": [
        "import openrec"
      ],
      "execution_count": 4,
      "outputs": [
        {
          "output_type": "error",
          "ename": "ModuleNotFoundError",
          "evalue": "ignored",
          "traceback": [
            "\u001b[0;31m---------------------------------------------------------------------------\u001b[0m",
            "\u001b[0;31mModuleNotFoundError\u001b[0m                       Traceback (most recent call last)",
            "\u001b[0;32m<ipython-input-4-f74814845c8a>\u001b[0m in \u001b[0;36m<module>\u001b[0;34m()\u001b[0m\n\u001b[0;32m----> 1\u001b[0;31m \u001b[0;32mimport\u001b[0m \u001b[0mopenrec\u001b[0m\u001b[0;34m\u001b[0m\u001b[0m\n\u001b[0m",
            "\u001b[0;31mModuleNotFoundError\u001b[0m: No module named 'openrec'",
            "",
            "\u001b[0;31m---------------------------------------------------------------------------\u001b[0;32m\nNOTE: If your import is failing due to a missing package, you can\nmanually install dependencies using either !pip or !apt.\n\nTo view examples of installing some common dependencies, click the\n\"Open Examples\" button below.\n\u001b[0;31m---------------------------------------------------------------------------\u001b[0m\n"
          ]
        }
      ]
    },
    {
      "metadata": {
        "id": "U_qNgqiz7-PA",
        "colab_type": "code",
        "colab": {
          "autoexec": {
            "startup": false,
            "wait_interval": 0
          }
        }
      },
      "cell_type": "code",
      "source": [
        ""
      ],
      "execution_count": 0,
      "outputs": []
    },
    {
      "metadata": {
        "id": "kmcofLX44aND",
        "colab_type": "code",
        "colab": {
          "autoexec": {
            "startup": false,
            "wait_interval": 0
          }
        }
      },
      "cell_type": "code",
      "source": [
        "# radomly hold out an item per user for validation and testing respectively.\n",
        "val_structured_arr = np.zeros(users_count, dtype=[('user_id', np.int32), ('item_id', np.int32)]) \n",
        "test_structured_arr = np.zeros(users_count, dtype=[('user_id', np.int32), ('item_id', np.int32)])\n",
        "train_structured_arr = np.zeros(interactions_count-users_count*2, dtype=[('user_id', np.int32), ('item_id', np.int32)])"
      ],
      "execution_count": 0,
      "outputs": []
    },
    {
      "metadata": {
        "id": "v5fXl-hC4vKb",
        "colab_type": "code",
        "colab": {
          "autoexec": {
            "startup": false,
            "wait_interval": 0
          },
          "base_uri": "https://localhost:8080/",
          "height": 34
        },
        "outputId": "365dc44b-4578-4e35-c206-fe49e4935a9f",
        "executionInfo": {
          "status": "ok",
          "timestamp": 1524232562070,
          "user_tz": 240,
          "elapsed": 2040,
          "user": {
            "displayName": "Danqi Mao",
            "photoUrl": "https://lh3.googleusercontent.com/a/default-user=s128",
            "userId": "108953712405799017234"
          }
        }
      },
      "cell_type": "code",
      "source": [
        "val_structured_arr.shape,test_structured_arr.shape,train_structured_arr.shape"
      ],
      "execution_count": 11,
      "outputs": [
        {
          "output_type": "execute_result",
          "data": {
            "text/plain": [
              "((5551,), (5551,), (193884,))"
            ]
          },
          "metadata": {
            "tags": []
          },
          "execution_count": 11
        }
      ]
    },
    {
      "metadata": {
        "id": "XwylrIZt4w9a",
        "colab_type": "code",
        "colab": {
          "autoexec": {
            "startup": false,
            "wait_interval": 0
          }
        }
      },
      "cell_type": "code",
      "source": [
        "interaction_ind = 0\n",
        "next_user_id = 0\n",
        "next_item_id = 0\n",
        "map_to_item_id = dict()  # Map: item--id from 0 to len(items)-1\n",
        "\n",
        "with open('drive/start_up/ctrsr_datasets/citeulike-a/users.dat', 'r') as fin:\n",
        "    for line in fin:\n",
        "        item_list = line.split()[1:]\n",
        "        random.shuffle(item_list)\n",
        "        for ind, item in enumerate(item_list):\n",
        "            #print((item_list))\n",
        "           # print(ind, item)\n",
        "            if item not in map_to_item_id:\n",
        "                map_to_item_id[item] = next_item_id\n",
        "                next_item_id += 1\n",
        "            if ind == 0:\n",
        "                val_structured_arr[next_user_id] = (next_user_id, map_to_item_id[item])\n",
        "            elif ind == 1:\n",
        "                test_structured_arr[next_user_id] = (next_user_id, map_to_item_id[item])\n",
        "            else:\n",
        "                train_structured_arr[interaction_ind] = (next_user_id, map_to_item_id[item])\n",
        "                interaction_ind += 1\n",
        "        next_user_id += 1"
      ],
      "execution_count": 0,
      "outputs": []
    },
    {
      "metadata": {
        "id": "PtgohGOC41T6",
        "colab_type": "code",
        "colab": {
          "autoexec": {
            "startup": false,
            "wait_interval": 0
          }
        }
      },
      "cell_type": "code",
      "source": [
        "from openrec.utils import ImplicitDataset\n",
        "\n",
        "train_dataset = ImplicitDataset(raw_data=train_structured_arr, \n",
        "                        max_user=users_count, \n",
        "                        max_item=len(map_to_item_id), name='Train')\n",
        "val_dataset = ImplicitDataset(raw_data=val_structured_arr, \n",
        "                      max_user=users_count,\n",
        "                      max_item=len(map_to_item_id), name='Val')\n",
        "test_dataset = ImplicitDataset(raw_data=test_structured_arr, \n",
        "                       max_user=users_count,\n",
        "                       max_item=len(map_to_item_id), name='Test')"
      ],
      "execution_count": 0,
      "outputs": []
    },
    {
      "metadata": {
        "id": "ZqKjT6a66WCe",
        "colab_type": "code",
        "colab": {
          "autoexec": {
            "startup": false,
            "wait_interval": 0
          },
          "base_uri": "https://localhost:8080/",
          "height": 334
        },
        "outputId": "0ed41ef6-bcae-4747-8b24-60028a24e627",
        "executionInfo": {
          "status": "error",
          "timestamp": 1524323245005,
          "user_tz": 240,
          "elapsed": 1062,
          "user": {
            "displayName": "Danqi Mao",
            "photoUrl": "https://lh3.googleusercontent.com/a/default-user=s128",
            "userId": "108953712405799017234"
          }
        }
      },
      "cell_type": "code",
      "source": [
        "from openrec.utils.samplers import PairwiseSampler\n",
        "\n",
        "sampler = PairwiseSampler(batch_size=1000, dataset=train_dataset, num_process=1)\n"
      ],
      "execution_count": 1,
      "outputs": [
        {
          "output_type": "error",
          "ename": "ModuleNotFoundError",
          "evalue": "ignored",
          "traceback": [
            "\u001b[0;31m---------------------------------------------------------------------------\u001b[0m",
            "\u001b[0;31mModuleNotFoundError\u001b[0m                       Traceback (most recent call last)",
            "\u001b[0;32m<ipython-input-1-8721c614204f>\u001b[0m in \u001b[0;36m<module>\u001b[0;34m()\u001b[0m\n\u001b[0;32m----> 1\u001b[0;31m \u001b[0;32mfrom\u001b[0m \u001b[0mopenrec\u001b[0m\u001b[0;34m.\u001b[0m\u001b[0mutils\u001b[0m\u001b[0;34m.\u001b[0m\u001b[0msamplers\u001b[0m \u001b[0;32mimport\u001b[0m \u001b[0mPairwiseSampler\u001b[0m\u001b[0;34m\u001b[0m\u001b[0m\n\u001b[0m\u001b[1;32m      2\u001b[0m \u001b[0;34m\u001b[0m\u001b[0m\n\u001b[1;32m      3\u001b[0m \u001b[0msampler\u001b[0m \u001b[0;34m=\u001b[0m \u001b[0mPairwiseSampler\u001b[0m\u001b[0;34m(\u001b[0m\u001b[0mbatch_size\u001b[0m\u001b[0;34m=\u001b[0m\u001b[0;36m1000\u001b[0m\u001b[0;34m,\u001b[0m \u001b[0mdataset\u001b[0m\u001b[0;34m=\u001b[0m\u001b[0mtrain_dataset\u001b[0m\u001b[0;34m,\u001b[0m \u001b[0mnum_process\u001b[0m\u001b[0;34m=\u001b[0m\u001b[0;36m1\u001b[0m\u001b[0;34m)\u001b[0m\u001b[0;34m\u001b[0m\u001b[0m\n",
            "\u001b[0;31mModuleNotFoundError\u001b[0m: No module named 'openrec'",
            "",
            "\u001b[0;31m---------------------------------------------------------------------------\u001b[0;32m\nNOTE: If your import is failing due to a missing package, you can\nmanually install dependencies using either !pip or !apt.\n\nTo view examples of installing some common dependencies, click the\n\"Open Examples\" button below.\n\u001b[0;31m---------------------------------------------------------------------------\u001b[0m\n"
          ]
        }
      ]
    },
    {
      "metadata": {
        "id": "JtRytf-J6eOJ",
        "colab_type": "code",
        "colab": {
          "autoexec": {
            "startup": false,
            "wait_interval": 0
          }
        }
      },
      "cell_type": "code",
      "source": [
        "from openrec.utils.evaluators import AUC\n",
        "\n",
        "auc_evaluator = AUC()"
      ],
      "execution_count": 0,
      "outputs": []
    },
    {
      "metadata": {
        "id": "0HGojXVp6mMj",
        "colab_type": "code",
        "colab": {
          "autoexec": {
            "startup": false,
            "wait_interval": 0
          }
        }
      },
      "cell_type": "code",
      "source": [
        "from openrec import ImplicitModelTrainer\n",
        "\n",
        "model_trainer = ImplicitModelTrainer(batch_size=1000, \n",
        "                             test_batch_size=100, \n",
        "                            train_dataset=train_dataset, \n",
        "                             model=bpr_model, \n",
        "                             sampler=sampler)"
      ],
      "execution_count": 0,
      "outputs": []
    },
    {
      "metadata": {
        "id": "zE0uo_386t3w",
        "colab_type": "code",
        "colab": {
          "autoexec": {
            "startup": false,
            "wait_interval": 0
          }
        }
      },
      "cell_type": "code",
      "source": [
        "# 9:56"
      ],
      "execution_count": 0,
      "outputs": []
    },
    {
      "metadata": {
        "id": "tsnfsowL6oqM",
        "colab_type": "code",
        "colab": {
          "autoexec": {
            "startup": false,
            "wait_interval": 0
          },
          "base_uri": "https://localhost:8080/",
          "height": 2788
        },
        "outputId": "4c4762d5-2da7-4354-802c-a34b452c7216",
        "executionInfo": {
          "status": "ok",
          "timestamp": 1524235192088,
          "user_tz": 240,
          "elapsed": 2614175,
          "user": {
            "displayName": "Danqi Mao",
            "photoUrl": "https://lh3.googleusercontent.com/a/default-user=s128",
            "userId": "108953712405799017234"
          }
        }
      },
      "cell_type": "code",
      "source": [
        "model_trainer.train(num_itr=10000, \n",
        "                    display_itr=1000, \n",
        "                    eval_datasets=[val_dataset, test_dataset],\n",
        "                    evaluators=[auc_evaluator])"
      ],
      "execution_count": 18,
      "outputs": [
        {
          "output_type": "stream",
          "text": [
            "\u001b[34m== Start training with FULL evaluation ==\u001b[0m\n",
            "\u001b[34m[Itr 100] Finished\u001b[0m\n",
            "\u001b[34m[Itr 200] Finished\u001b[0m\n",
            "\u001b[34m[Itr 300] Finished\u001b[0m\n",
            "\u001b[34m[Itr 400] Finished\u001b[0m\n",
            "\u001b[34m[Itr 500] Finished\u001b[0m\n",
            "\u001b[34m[Itr 600] Finished\u001b[0m\n",
            "\u001b[34m[Itr 700] Finished\u001b[0m\n",
            "\u001b[34m[Itr 800] Finished\u001b[0m\n",
            "\u001b[34m[Itr 900] Finished\u001b[0m\n",
            "\u001b[34m[Itr 1000] Finished\u001b[0m\n",
            "\u001b[31m[Itr 1000]\u001b[0m loss: 668.051407\n",
            "\u001b[32m..(dataset: Val) evaluation\u001b[0m\n"
          ],
          "name": "stdout"
        },
        {
          "output_type": "stream",
          "text": [
            "100%|██████████| 56/56 [01:08<00:00,  1.22s/it]"
          ],
          "name": "stderr"
        },
        {
          "output_type": "stream",
          "text": [
            "\u001b[32m..(dataset: Val)\u001b[0m AUC 0.623611173174804\n",
            "\u001b[32m..(dataset: Test) evaluation\u001b[0m\n"
          ],
          "name": "stdout"
        },
        {
          "output_type": "stream",
          "text": [
            "\n",
            "100%|██████████| 56/56 [01:10<00:00,  1.26s/it]\n"
          ],
          "name": "stderr"
        },
        {
          "output_type": "stream",
          "text": [
            "\u001b[32m..(dataset: Test)\u001b[0m AUC 0.6224832518613629\n",
            "\u001b[34m[Itr 1100] Finished\u001b[0m\n",
            "\u001b[34m[Itr 1200] Finished\u001b[0m\n",
            "\u001b[34m[Itr 1300] Finished\u001b[0m\n",
            "\u001b[34m[Itr 1400] Finished\u001b[0m\n",
            "\u001b[34m[Itr 1500] Finished\u001b[0m\n",
            "\u001b[34m[Itr 1600] Finished\u001b[0m\n",
            "\u001b[34m[Itr 1700] Finished\u001b[0m\n",
            "\u001b[34m[Itr 1800] Finished\u001b[0m\n",
            "\u001b[34m[Itr 1900] Finished\u001b[0m\n",
            "\u001b[34m[Itr 2000] Finished\u001b[0m\n",
            "\u001b[31m[Itr 2000]\u001b[0m loss: 635.630847\n",
            "\u001b[32m..(dataset: Val) evaluation\u001b[0m\n"
          ],
          "name": "stdout"
        },
        {
          "output_type": "stream",
          "text": [
            "100%|██████████| 56/56 [01:07<00:00,  1.21s/it]"
          ],
          "name": "stderr"
        },
        {
          "output_type": "stream",
          "text": [
            "\u001b[32m..(dataset: Val)\u001b[0m AUC 0.6247171714559534\n",
            "\u001b[32m..(dataset: Test) evaluation\u001b[0m\n"
          ],
          "name": "stdout"
        },
        {
          "output_type": "stream",
          "text": [
            "\n",
            "100%|██████████| 56/56 [01:08<00:00,  1.23s/it]\n"
          ],
          "name": "stderr"
        },
        {
          "output_type": "stream",
          "text": [
            "\u001b[32m..(dataset: Test)\u001b[0m AUC 0.6229578974882529\n",
            "\u001b[34m[Itr 2100] Finished\u001b[0m\n",
            "\u001b[34m[Itr 2200] Finished\u001b[0m\n",
            "\u001b[34m[Itr 2300] Finished\u001b[0m\n",
            "\u001b[34m[Itr 2400] Finished\u001b[0m\n",
            "\u001b[34m[Itr 2500] Finished\u001b[0m\n",
            "\u001b[34m[Itr 2600] Finished\u001b[0m\n",
            "\u001b[34m[Itr 2700] Finished\u001b[0m\n",
            "\u001b[34m[Itr 2800] Finished\u001b[0m\n",
            "\u001b[34m[Itr 2900] Finished\u001b[0m\n",
            "\u001b[34m[Itr 3000] Finished\u001b[0m\n",
            "\u001b[31m[Itr 3000]\u001b[0m loss: 618.609860\n",
            "\u001b[32m..(dataset: Val) evaluation\u001b[0m\n"
          ],
          "name": "stdout"
        },
        {
          "output_type": "stream",
          "text": [
            "100%|██████████| 56/56 [01:08<00:00,  1.23s/it]"
          ],
          "name": "stderr"
        },
        {
          "output_type": "stream",
          "text": [
            "\u001b[32m..(dataset: Val)\u001b[0m AUC 0.6251939118578352\n",
            "\u001b[32m..(dataset: Test) evaluation\u001b[0m\n"
          ],
          "name": "stdout"
        },
        {
          "output_type": "stream",
          "text": [
            "\n",
            "100%|██████████| 56/56 [01:09<00:00,  1.23s/it]\n"
          ],
          "name": "stderr"
        },
        {
          "output_type": "stream",
          "text": [
            "\u001b[32m..(dataset: Test)\u001b[0m AUC 0.6230643426200024\n",
            "\u001b[34m[Itr 3100] Finished\u001b[0m\n",
            "\u001b[34m[Itr 3200] Finished\u001b[0m\n",
            "\u001b[34m[Itr 3300] Finished\u001b[0m\n",
            "\u001b[34m[Itr 3400] Finished\u001b[0m\n",
            "\u001b[34m[Itr 3500] Finished\u001b[0m\n",
            "\u001b[34m[Itr 3600] Finished\u001b[0m\n",
            "\u001b[34m[Itr 3700] Finished\u001b[0m\n",
            "\u001b[34m[Itr 3800] Finished\u001b[0m\n",
            "\u001b[34m[Itr 3900] Finished\u001b[0m\n",
            "\u001b[34m[Itr 4000] Finished\u001b[0m\n",
            "\u001b[31m[Itr 4000]\u001b[0m loss: 607.966194\n",
            "\u001b[32m..(dataset: Val) evaluation\u001b[0m\n"
          ],
          "name": "stdout"
        },
        {
          "output_type": "stream",
          "text": [
            "100%|██████████| 56/56 [01:09<00:00,  1.24s/it]"
          ],
          "name": "stderr"
        },
        {
          "output_type": "stream",
          "text": [
            "\u001b[32m..(dataset: Val)\u001b[0m AUC 0.62587949750926\n",
            "\u001b[32m..(dataset: Test) evaluation\u001b[0m\n"
          ],
          "name": "stdout"
        },
        {
          "output_type": "stream",
          "text": [
            "\n",
            "100%|██████████| 56/56 [01:14<00:00,  1.33s/it]\n"
          ],
          "name": "stderr"
        },
        {
          "output_type": "stream",
          "text": [
            "\u001b[32m..(dataset: Test)\u001b[0m AUC 0.6232848468741609\n",
            "\u001b[34m[Itr 4100] Finished\u001b[0m\n",
            "\u001b[34m[Itr 4200] Finished\u001b[0m\n",
            "\u001b[34m[Itr 4300] Finished\u001b[0m\n",
            "\u001b[34m[Itr 4400] Finished\u001b[0m\n",
            "\u001b[34m[Itr 4500] Finished\u001b[0m\n",
            "\u001b[34m[Itr 4600] Finished\u001b[0m\n",
            "\u001b[34m[Itr 4700] Finished\u001b[0m\n",
            "\u001b[34m[Itr 4800] Finished\u001b[0m\n",
            "\u001b[34m[Itr 4900] Finished\u001b[0m\n",
            "\u001b[34m[Itr 5000] Finished\u001b[0m\n",
            "\u001b[31m[Itr 5000]\u001b[0m loss: 601.198699\n",
            "\u001b[32m..(dataset: Val) evaluation\u001b[0m\n"
          ],
          "name": "stdout"
        },
        {
          "output_type": "stream",
          "text": [
            "100%|██████████| 56/56 [01:09<00:00,  1.24s/it]"
          ],
          "name": "stderr"
        },
        {
          "output_type": "stream",
          "text": [
            "\u001b[32m..(dataset: Val)\u001b[0m AUC 0.6260862521724215\n",
            "\u001b[32m..(dataset: Test) evaluation\u001b[0m\n"
          ],
          "name": "stdout"
        },
        {
          "output_type": "stream",
          "text": [
            "\n",
            "100%|██████████| 56/56 [01:09<00:00,  1.24s/it]\n"
          ],
          "name": "stderr"
        },
        {
          "output_type": "stream",
          "text": [
            "\u001b[32m..(dataset: Test)\u001b[0m AUC 0.6226125601986435\n",
            "\u001b[34m[Itr 5100] Finished\u001b[0m\n",
            "\u001b[34m[Itr 5200] Finished\u001b[0m\n",
            "\u001b[34m[Itr 5300] Finished\u001b[0m\n",
            "\u001b[34m[Itr 5400] Finished\u001b[0m\n",
            "\u001b[34m[Itr 5500] Finished\u001b[0m\n",
            "\u001b[34m[Itr 5600] Finished\u001b[0m\n",
            "\u001b[34m[Itr 5700] Finished\u001b[0m\n",
            "\u001b[34m[Itr 5800] Finished\u001b[0m\n",
            "\u001b[34m[Itr 5900] Finished\u001b[0m\n",
            "\u001b[34m[Itr 6000] Finished\u001b[0m\n",
            "\u001b[31m[Itr 6000]\u001b[0m loss: 595.940772\n",
            "\u001b[32m..(dataset: Val) evaluation\u001b[0m\n"
          ],
          "name": "stdout"
        },
        {
          "output_type": "stream",
          "text": [
            "100%|██████████| 56/56 [01:09<00:00,  1.25s/it]"
          ],
          "name": "stderr"
        },
        {
          "output_type": "stream",
          "text": [
            "\u001b[32m..(dataset: Val)\u001b[0m AUC 0.6256348185087184\n",
            "\u001b[32m..(dataset: Test) evaluation\u001b[0m\n"
          ],
          "name": "stdout"
        },
        {
          "output_type": "stream",
          "text": [
            "\n",
            "100%|██████████| 56/56 [01:11<00:00,  1.28s/it]\n"
          ],
          "name": "stderr"
        },
        {
          "output_type": "stream",
          "text": [
            "\u001b[32m..(dataset: Test)\u001b[0m AUC 0.6228452861061959\n",
            "\u001b[34m[Itr 6100] Finished\u001b[0m\n",
            "\u001b[34m[Itr 6200] Finished\u001b[0m\n",
            "\u001b[34m[Itr 6300] Finished\u001b[0m\n",
            "\u001b[34m[Itr 6400] Finished\u001b[0m\n",
            "\u001b[34m[Itr 6500] Finished\u001b[0m\n",
            "\u001b[34m[Itr 6600] Finished\u001b[0m\n",
            "\u001b[34m[Itr 6700] Finished\u001b[0m\n",
            "\u001b[34m[Itr 6800] Finished\u001b[0m\n",
            "\u001b[34m[Itr 6900] Finished\u001b[0m\n",
            "\u001b[34m[Itr 7000] Finished\u001b[0m\n",
            "\u001b[31m[Itr 7000]\u001b[0m loss: 592.108872\n",
            "\u001b[32m..(dataset: Val) evaluation\u001b[0m\n"
          ],
          "name": "stdout"
        },
        {
          "output_type": "stream",
          "text": [
            "100%|██████████| 56/56 [01:07<00:00,  1.21s/it]"
          ],
          "name": "stderr"
        },
        {
          "output_type": "stream",
          "text": [
            "\u001b[32m..(dataset: Val)\u001b[0m AUC 0.6260285317983099\n",
            "\u001b[32m..(dataset: Test) evaluation\u001b[0m\n"
          ],
          "name": "stdout"
        },
        {
          "output_type": "stream",
          "text": [
            "\n",
            "100%|██████████| 56/56 [01:07<00:00,  1.21s/it]\n"
          ],
          "name": "stderr"
        },
        {
          "output_type": "stream",
          "text": [
            "\u001b[32m..(dataset: Test)\u001b[0m AUC 0.6231192023828167\n",
            "\u001b[34m[Itr 7100] Finished\u001b[0m\n",
            "\u001b[34m[Itr 7200] Finished\u001b[0m\n",
            "\u001b[34m[Itr 7300] Finished\u001b[0m\n",
            "\u001b[34m[Itr 7400] Finished\u001b[0m\n",
            "\u001b[34m[Itr 7500] Finished\u001b[0m\n",
            "\u001b[34m[Itr 7600] Finished\u001b[0m\n",
            "\u001b[34m[Itr 7700] Finished\u001b[0m\n",
            "\u001b[34m[Itr 7800] Finished\u001b[0m\n",
            "\u001b[34m[Itr 7900] Finished\u001b[0m\n",
            "\u001b[34m[Itr 8000] Finished\u001b[0m\n",
            "\u001b[31m[Itr 8000]\u001b[0m loss: 589.342958\n",
            "\u001b[32m..(dataset: Val) evaluation\u001b[0m\n"
          ],
          "name": "stdout"
        },
        {
          "output_type": "stream",
          "text": [
            "100%|██████████| 56/56 [01:06<00:00,  1.19s/it]"
          ],
          "name": "stderr"
        },
        {
          "output_type": "stream",
          "text": [
            "\u001b[32m..(dataset: Val)\u001b[0m AUC 0.6257464440791614\n",
            "\u001b[32m..(dataset: Test) evaluation\u001b[0m\n"
          ],
          "name": "stdout"
        },
        {
          "output_type": "stream",
          "text": [
            "\n",
            "100%|██████████| 56/56 [01:08<00:00,  1.23s/it]\n"
          ],
          "name": "stderr"
        },
        {
          "output_type": "stream",
          "text": [
            "\u001b[32m..(dataset: Test)\u001b[0m AUC 0.6232030277999852\n",
            "\u001b[34m[Itr 8100] Finished\u001b[0m\n",
            "\u001b[34m[Itr 8200] Finished\u001b[0m\n",
            "\u001b[34m[Itr 8300] Finished\u001b[0m\n",
            "\u001b[34m[Itr 8400] Finished\u001b[0m\n",
            "\u001b[34m[Itr 8500] Finished\u001b[0m\n",
            "\u001b[34m[Itr 8600] Finished\u001b[0m\n",
            "\u001b[34m[Itr 8700] Finished\u001b[0m\n",
            "\u001b[34m[Itr 8800] Finished\u001b[0m\n",
            "\u001b[34m[Itr 8900] Finished\u001b[0m\n",
            "\u001b[34m[Itr 9000] Finished\u001b[0m\n",
            "\u001b[31m[Itr 9000]\u001b[0m loss: 586.693695\n",
            "\u001b[32m..(dataset: Val) evaluation\u001b[0m\n"
          ],
          "name": "stdout"
        },
        {
          "output_type": "stream",
          "text": [
            "100%|██████████| 56/56 [01:08<00:00,  1.23s/it]"
          ],
          "name": "stderr"
        },
        {
          "output_type": "stream",
          "text": [
            "\u001b[32m..(dataset: Val)\u001b[0m AUC 0.6260032285132879\n",
            "\u001b[32m..(dataset: Test) evaluation\u001b[0m\n"
          ],
          "name": "stdout"
        },
        {
          "output_type": "stream",
          "text": [
            "\n",
            "100%|██████████| 56/56 [01:09<00:00,  1.25s/it]\n"
          ],
          "name": "stderr"
        },
        {
          "output_type": "stream",
          "text": [
            "\u001b[32m..(dataset: Test)\u001b[0m AUC 0.623772413435617\n",
            "\u001b[34m[Itr 9100] Finished\u001b[0m\n",
            "\u001b[34m[Itr 9200] Finished\u001b[0m\n",
            "\u001b[34m[Itr 9300] Finished\u001b[0m\n",
            "\u001b[34m[Itr 9400] Finished\u001b[0m\n",
            "\u001b[34m[Itr 9500] Finished\u001b[0m\n",
            "\u001b[34m[Itr 9600] Finished\u001b[0m\n",
            "\u001b[34m[Itr 9700] Finished\u001b[0m\n",
            "\u001b[34m[Itr 9800] Finished\u001b[0m\n",
            "\u001b[34m[Itr 9900] Finished\u001b[0m\n"
          ],
          "name": "stdout"
        }
      ]
    },
    {
      "metadata": {
        "id": "Cc8FLoIZyUuq",
        "colab_type": "code",
        "colab": {
          "autoexec": {
            "startup": false,
            "wait_interval": 0
          }
        }
      },
      "cell_type": "code",
      "source": [
        "\n"
      ],
      "execution_count": 0,
      "outputs": []
    },
    {
      "metadata": {
        "id": "LljNqCFr8K-f",
        "colab_type": "code",
        "colab": {
          "autoexec": {
            "startup": false,
            "wait_interval": 0
          }
        }
      },
      "cell_type": "code",
      "source": [
        "\n"
      ],
      "execution_count": 0,
      "outputs": []
    },
    {
      "metadata": {
        "id": "fk5NzPNs8Lf9",
        "colab_type": "code",
        "colab": {
          "autoexec": {
            "startup": false,
            "wait_interval": 0
          }
        }
      },
      "cell_type": "code",
      "source": [
        "\n",
        "\n"
      ],
      "execution_count": 0,
      "outputs": []
    },
    {
      "metadata": {
        "id": "YyDIPjcq8MZS",
        "colab_type": "code",
        "colab": {
          "autoexec": {
            "startup": false,
            "wait_interval": 0
          }
        }
      },
      "cell_type": "code",
      "source": [
        "\n",
        "\\\n",
        "\n",
        "\n",
        "\n",
        "\n",
        "\n",
        "\n",
        "\n",
        "\n",
        "\n",
        "\n",
        "\n",
        "\n"
      ],
      "execution_count": 0,
      "outputs": []
    }
  ]
}